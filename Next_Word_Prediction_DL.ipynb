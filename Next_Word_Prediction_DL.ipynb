{
  "nbformat": 4,
  "nbformat_minor": 0,
  "metadata": {
    "colab": {
      "name": "Next Word Prediction_DL.ipynb",
      "provenance": []
    },
    "kernelspec": {
      "name": "python3",
      "display_name": "Python 3"
    },
    "language_info": {
      "name": "python"
    }
  },
  "cells": [
    {
      "cell_type": "code",
      "metadata": {
        "id": "EIiOyUFifOan"
      },
      "source": [
        "import numpy as np\n",
        "from nltk.tokenize import RegexpTokenizer\n",
        "from keras.models import Sequential, load_model\n",
        "from keras.layers import LSTM\n",
        "from keras.layers.core import Dense, Activation\n",
        "from tensorflow.keras.optimizers import RMSprop\n",
        "import matplotlib.pyplot as plt\n",
        "import pickle\n",
        "import heapq"
      ],
      "execution_count": null,
      "outputs": []
    },
    {
      "cell_type": "code",
      "metadata": {
        "id": "qZf2_GmXfwGf"
      },
      "source": [
        "path = '/content/drive/MyDrive/DL and NLP/DL/corpus.txt'\n",
        "corpus=open(path).read()"
      ],
      "execution_count": null,
      "outputs": []
    },
    {
      "cell_type": "code",
      "metadata": {
        "colab": {
          "base_uri": "https://localhost:8080/",
          "height": 71
        },
        "id": "aCa2BSQujYj3",
        "outputId": "70199e9d-5c13-4f88-f30a-5bccf9d4b9eb"
      },
      "source": [
        "corpus"
      ],
      "execution_count": null,
      "outputs": [
        {
          "output_type": "execute_result",
          "data": {
            "application/vnd.google.colaboratory.intrinsic+json": {
              "type": "string"
            },
            "text/plain": [
              "'Next Word Prediction is also called Language Modeling. It is the task of predicting what word comes next. It is one of the fundamental tasks of NLP and has many applications. You might be using it daily when you write texts or emails without realizing it.'"
            ]
          },
          "metadata": {},
          "execution_count": 2
        }
      ]
    },
    {
      "cell_type": "code",
      "metadata": {
        "id": "BEOgCjCKgBj3"
      },
      "source": [
        "import re\n",
        "corpus=corpus.lower()\n",
        "clean_corpus=re.sub('[^a-z0-9]+',' ', corpus)"
      ],
      "execution_count": null,
      "outputs": []
    },
    {
      "cell_type": "code",
      "metadata": {
        "colab": {
          "base_uri": "https://localhost:8080/",
          "height": 54
        },
        "id": "EuEyBnXEgLnv",
        "outputId": "7537e635-6e2a-46e3-b534-cc066139ddd6"
      },
      "source": [
        "clean_corpus"
      ],
      "execution_count": null,
      "outputs": [
        {
          "output_type": "execute_result",
          "data": {
            "application/vnd.google.colaboratory.intrinsic+json": {
              "type": "string"
            },
            "text/plain": [
              "'next word prediction is also called language modeling it is the task of predicting what word comes next it is one of the fundamental tasks of nlp and has many applications you might be using it daily when you write texts or emails without realizing it '"
            ]
          },
          "metadata": {},
          "execution_count": 4
        }
      ]
    },
    {
      "cell_type": "code",
      "metadata": {
        "colab": {
          "base_uri": "https://localhost:8080/"
        },
        "id": "gshJCxn0g7VX",
        "outputId": "bc74413e-9e93-480b-c895-36d1d126019e"
      },
      "source": [
        "import nltk\n",
        "nltk.download('punkt')\n",
        "from nltk.tokenize import word_tokenize\n",
        "from keras.preprocessing.text import Tokenizer\n",
        "from tensorflow.keras.utils import to_categorical\n",
        "import numpy as np"
      ],
      "execution_count": null,
      "outputs": [
        {
          "output_type": "stream",
          "name": "stdout",
          "text": [
            "[nltk_data] Downloading package punkt to /root/nltk_data...\n",
            "[nltk_data]   Package punkt is already up-to-date!\n"
          ]
        }
      ]
    },
    {
      "cell_type": "code",
      "metadata": {
        "colab": {
          "base_uri": "https://localhost:8080/"
        },
        "id": "Ra6rc6rJhaaf",
        "outputId": "d3c30271-d92f-4b75-c8bc-4ccabfeed66d"
      },
      "source": [
        "tokens = word_tokenize(clean_corpus)\n",
        "tokens"
      ],
      "execution_count": null,
      "outputs": [
        {
          "output_type": "execute_result",
          "data": {
            "text/plain": [
              "['next',\n",
              " 'word',\n",
              " 'prediction',\n",
              " 'is',\n",
              " 'also',\n",
              " 'called',\n",
              " 'language',\n",
              " 'modeling',\n",
              " 'it',\n",
              " 'is',\n",
              " 'the',\n",
              " 'task',\n",
              " 'of',\n",
              " 'predicting',\n",
              " 'what',\n",
              " 'word',\n",
              " 'comes',\n",
              " 'next',\n",
              " 'it',\n",
              " 'is',\n",
              " 'one',\n",
              " 'of',\n",
              " 'the',\n",
              " 'fundamental',\n",
              " 'tasks',\n",
              " 'of',\n",
              " 'nlp',\n",
              " 'and',\n",
              " 'has',\n",
              " 'many',\n",
              " 'applications',\n",
              " 'you',\n",
              " 'might',\n",
              " 'be',\n",
              " 'using',\n",
              " 'it',\n",
              " 'daily',\n",
              " 'when',\n",
              " 'you',\n",
              " 'write',\n",
              " 'texts',\n",
              " 'or',\n",
              " 'emails',\n",
              " 'without',\n",
              " 'realizing',\n",
              " 'it']"
            ]
          },
          "metadata": {},
          "execution_count": 6
        }
      ]
    },
    {
      "cell_type": "code",
      "metadata": {
        "id": "yOc1GcA6jv-G"
      },
      "source": [
        "train_len = 3"
      ],
      "execution_count": null,
      "outputs": []
    },
    {
      "cell_type": "code",
      "metadata": {
        "id": "O4-B7CtYj2gu"
      },
      "source": [
        "text_sequences = []\n",
        "for i in range(train_len,len(tokens)+1):\n",
        "  seq = tokens[i-train_len:i]\n",
        "  text_sequences.append(seq)"
      ],
      "execution_count": null,
      "outputs": []
    },
    {
      "cell_type": "code",
      "metadata": {
        "colab": {
          "base_uri": "https://localhost:8080/"
        },
        "id": "D4c3Pa4Oj5Yv",
        "outputId": "9210421b-7e2f-4113-82d0-6e5dbf925326"
      },
      "source": [
        "text_sequences"
      ],
      "execution_count": null,
      "outputs": [
        {
          "output_type": "execute_result",
          "data": {
            "text/plain": [
              "[['next', 'word', 'prediction'],\n",
              " ['word', 'prediction', 'is'],\n",
              " ['prediction', 'is', 'also'],\n",
              " ['is', 'also', 'called'],\n",
              " ['also', 'called', 'language'],\n",
              " ['called', 'language', 'modeling'],\n",
              " ['language', 'modeling', 'it'],\n",
              " ['modeling', 'it', 'is'],\n",
              " ['it', 'is', 'the'],\n",
              " ['is', 'the', 'task'],\n",
              " ['the', 'task', 'of'],\n",
              " ['task', 'of', 'predicting'],\n",
              " ['of', 'predicting', 'what'],\n",
              " ['predicting', 'what', 'word'],\n",
              " ['what', 'word', 'comes'],\n",
              " ['word', 'comes', 'next'],\n",
              " ['comes', 'next', 'it'],\n",
              " ['next', 'it', 'is'],\n",
              " ['it', 'is', 'one'],\n",
              " ['is', 'one', 'of'],\n",
              " ['one', 'of', 'the'],\n",
              " ['of', 'the', 'fundamental'],\n",
              " ['the', 'fundamental', 'tasks'],\n",
              " ['fundamental', 'tasks', 'of'],\n",
              " ['tasks', 'of', 'nlp'],\n",
              " ['of', 'nlp', 'and'],\n",
              " ['nlp', 'and', 'has'],\n",
              " ['and', 'has', 'many'],\n",
              " ['has', 'many', 'applications'],\n",
              " ['many', 'applications', 'you'],\n",
              " ['applications', 'you', 'might'],\n",
              " ['you', 'might', 'be'],\n",
              " ['might', 'be', 'using'],\n",
              " ['be', 'using', 'it'],\n",
              " ['using', 'it', 'daily'],\n",
              " ['it', 'daily', 'when'],\n",
              " ['daily', 'when', 'you'],\n",
              " ['when', 'you', 'write'],\n",
              " ['you', 'write', 'texts'],\n",
              " ['write', 'texts', 'or'],\n",
              " ['texts', 'or', 'emails'],\n",
              " ['or', 'emails', 'without'],\n",
              " ['emails', 'without', 'realizing'],\n",
              " ['without', 'realizing', 'it']]"
            ]
          },
          "metadata": {},
          "execution_count": 9
        }
      ]
    },
    {
      "cell_type": "code",
      "metadata": {
        "colab": {
          "base_uri": "https://localhost:8080/"
        },
        "id": "pK3xlK5Vj8j3",
        "outputId": "8c152e5a-0bc5-44a4-bebd-2117d9b6440d"
      },
      "source": [
        "#converting the texts into integer sequence\n",
        "tokenizer = Tokenizer()\n",
        "tokenizer.fit_on_texts(text_sequences)\n",
        "sequences = tokenizer.texts_to_sequences(text_sequences)\n",
        "sequences"
      ],
      "execution_count": null,
      "outputs": [
        {
          "output_type": "execute_result",
          "data": {
            "text/plain": [
              "[[7, 6, 8],\n",
              " [6, 8, 2],\n",
              " [8, 2, 9],\n",
              " [2, 9, 10],\n",
              " [9, 10, 11],\n",
              " [10, 11, 12],\n",
              " [11, 12, 1],\n",
              " [12, 1, 2],\n",
              " [1, 2, 4],\n",
              " [2, 4, 13],\n",
              " [4, 13, 3],\n",
              " [13, 3, 14],\n",
              " [3, 14, 15],\n",
              " [14, 15, 6],\n",
              " [15, 6, 16],\n",
              " [6, 16, 7],\n",
              " [16, 7, 1],\n",
              " [7, 1, 2],\n",
              " [1, 2, 17],\n",
              " [2, 17, 3],\n",
              " [17, 3, 4],\n",
              " [3, 4, 18],\n",
              " [4, 18, 19],\n",
              " [18, 19, 3],\n",
              " [19, 3, 20],\n",
              " [3, 20, 21],\n",
              " [20, 21, 22],\n",
              " [21, 22, 23],\n",
              " [22, 23, 24],\n",
              " [23, 24, 5],\n",
              " [24, 5, 25],\n",
              " [5, 25, 26],\n",
              " [25, 26, 27],\n",
              " [26, 27, 1],\n",
              " [27, 1, 28],\n",
              " [1, 28, 29],\n",
              " [28, 29, 5],\n",
              " [29, 5, 30],\n",
              " [5, 30, 31],\n",
              " [30, 31, 32],\n",
              " [31, 32, 33],\n",
              " [32, 33, 34],\n",
              " [33, 34, 35],\n",
              " [34, 35, 1]]"
            ]
          },
          "metadata": {},
          "execution_count": 10
        }
      ]
    },
    {
      "cell_type": "code",
      "metadata": {
        "id": "sOSjGRTtkCBO"
      },
      "source": [
        "sequences=np.asarray(sequences)"
      ],
      "execution_count": null,
      "outputs": []
    },
    {
      "cell_type": "code",
      "metadata": {
        "colab": {
          "base_uri": "https://localhost:8080/"
        },
        "id": "s-zzrxNskFf2",
        "outputId": "9becbf2b-eccc-4c9d-e2e4-1468dfb92bc4"
      },
      "source": [
        "#vocabulary size\n",
        "vocabulary_size = len(tokenizer.word_counts)+1\n",
        "vocabulary_size"
      ],
      "execution_count": null,
      "outputs": [
        {
          "output_type": "execute_result",
          "data": {
            "text/plain": [
              "36"
            ]
          },
          "metadata": {},
          "execution_count": 12
        }
      ]
    },
    {
      "cell_type": "code",
      "metadata": {
        "id": "dAUDTZmxkI-O"
      },
      "source": [
        "#trainX\n",
        "train_inputs=sequences[:,:-1]"
      ],
      "execution_count": null,
      "outputs": []
    },
    {
      "cell_type": "code",
      "metadata": {
        "colab": {
          "base_uri": "https://localhost:8080/"
        },
        "id": "sAjoFQR_kLul",
        "outputId": "3afb823f-afa3-441a-e7b9-8eb5798b816e"
      },
      "source": [
        "train_inputs"
      ],
      "execution_count": null,
      "outputs": [
        {
          "output_type": "execute_result",
          "data": {
            "text/plain": [
              "array([[ 7,  6],\n",
              "       [ 6,  8],\n",
              "       [ 8,  2],\n",
              "       [ 2,  9],\n",
              "       [ 9, 10],\n",
              "       [10, 11],\n",
              "       [11, 12],\n",
              "       [12,  1],\n",
              "       [ 1,  2],\n",
              "       [ 2,  4],\n",
              "       [ 4, 13],\n",
              "       [13,  3],\n",
              "       [ 3, 14],\n",
              "       [14, 15],\n",
              "       [15,  6],\n",
              "       [ 6, 16],\n",
              "       [16,  7],\n",
              "       [ 7,  1],\n",
              "       [ 1,  2],\n",
              "       [ 2, 17],\n",
              "       [17,  3],\n",
              "       [ 3,  4],\n",
              "       [ 4, 18],\n",
              "       [18, 19],\n",
              "       [19,  3],\n",
              "       [ 3, 20],\n",
              "       [20, 21],\n",
              "       [21, 22],\n",
              "       [22, 23],\n",
              "       [23, 24],\n",
              "       [24,  5],\n",
              "       [ 5, 25],\n",
              "       [25, 26],\n",
              "       [26, 27],\n",
              "       [27,  1],\n",
              "       [ 1, 28],\n",
              "       [28, 29],\n",
              "       [29,  5],\n",
              "       [ 5, 30],\n",
              "       [30, 31],\n",
              "       [31, 32],\n",
              "       [32, 33],\n",
              "       [33, 34],\n",
              "       [34, 35]])"
            ]
          },
          "metadata": {},
          "execution_count": 14
        }
      ]
    },
    {
      "cell_type": "code",
      "metadata": {
        "colab": {
          "base_uri": "https://localhost:8080/"
        },
        "id": "KPzQ8o3ZkOhW",
        "outputId": "d20f0a64-7046-45c7-e97a-0b5ea0f88fcd"
      },
      "source": [
        "seq_length=train_inputs.shape[1]\n",
        "seq_length"
      ],
      "execution_count": null,
      "outputs": [
        {
          "output_type": "execute_result",
          "data": {
            "text/plain": [
              "2"
            ]
          },
          "metadata": {},
          "execution_count": 15
        }
      ]
    },
    {
      "cell_type": "code",
      "metadata": {
        "id": "rMdn5J9pkSB-"
      },
      "source": [
        "#trainY\n",
        "train_targets=sequences[:,-1]"
      ],
      "execution_count": null,
      "outputs": []
    },
    {
      "cell_type": "code",
      "metadata": {
        "colab": {
          "base_uri": "https://localhost:8080/"
        },
        "id": "2hepe-XMkUs2",
        "outputId": "0e71690b-a834-4daa-faf9-e95ba768f8e9"
      },
      "source": [
        "train_targets"
      ],
      "execution_count": null,
      "outputs": [
        {
          "output_type": "execute_result",
          "data": {
            "text/plain": [
              "array([ 8,  2,  9, 10, 11, 12,  1,  2,  4, 13,  3, 14, 15,  6, 16,  7,  1,\n",
              "        2, 17,  3,  4, 18, 19,  3, 20, 21, 22, 23, 24,  5, 25, 26, 27,  1,\n",
              "       28, 29,  5, 30, 31, 32, 33, 34, 35,  1])"
            ]
          },
          "metadata": {},
          "execution_count": 17
        }
      ]
    },
    {
      "cell_type": "code",
      "metadata": {
        "id": "PSs4dLa4kXGm"
      },
      "source": [
        "train_targets = to_categorical(train_targets, num_classes=vocabulary_size)"
      ],
      "execution_count": null,
      "outputs": []
    },
    {
      "cell_type": "code",
      "metadata": {
        "id": "b0hrNerIka1H"
      },
      "source": [
        "#required libraries\n",
        "import torch\n",
        "from torch.optim import Adam\n",
        "import torch.nn as nn"
      ],
      "execution_count": null,
      "outputs": []
    },
    {
      "cell_type": "code",
      "metadata": {
        "id": "H1bxs1uQknS2"
      },
      "source": [
        "#lstm model\n",
        "class lstm(nn.Module):\n",
        "    def __init__(self, vocab_size, embed_size, hidden_size):\n",
        "        super().__init__()\n",
        "        #simple lookup table that stores embeddings of a fixed dictionary and size.\n",
        "        self.embed = nn.Embedding(vocab_size, embed_size)\n",
        "        \n",
        "        #lstm \n",
        "        self.lstm = nn.LSTM(embed_size, hidden_size, num_layers=2, bidirectional=False)\n",
        "        \n",
        "        #fully connected layer\n",
        "        self.linear = nn.Linear(hidden_size*seq_length,vocab_size)\n",
        "    \n",
        "    def forward(self, input_word):\n",
        "        #input sequence to embeddings\n",
        "        embedded = self.embed(input_word)\n",
        "        \n",
        "        #passing the embedding to lstm model\n",
        "        output, hidden = self.lstm(embedded)\n",
        "        \n",
        "        #reshaping\n",
        "        output=output.view(output.size(0), -1)\n",
        "        \n",
        "        #fully connected layer\n",
        "        output = self.linear(output)\n",
        "        return output,hidden"
      ],
      "execution_count": null,
      "outputs": []
    },
    {
      "cell_type": "code",
      "metadata": {
        "id": "CgRZZEnGkxIu"
      },
      "source": [
        "model=lstm(vocab_size=vocabulary_size,embed_size=128, hidden_size=256)"
      ],
      "execution_count": null,
      "outputs": []
    },
    {
      "cell_type": "code",
      "metadata": {
        "colab": {
          "base_uri": "https://localhost:8080/"
        },
        "id": "xeSRCback0Pe",
        "outputId": "3e2a03c7-9c1c-4886-81a4-a43f62c6dcdf"
      },
      "source": [
        "model"
      ],
      "execution_count": null,
      "outputs": [
        {
          "output_type": "execute_result",
          "data": {
            "text/plain": [
              "lstm(\n",
              "  (embed): Embedding(36, 128)\n",
              "  (lstm): LSTM(128, 256, num_layers=2)\n",
              "  (linear): Linear(in_features=512, out_features=36, bias=True)\n",
              ")"
            ]
          },
          "metadata": {},
          "execution_count": 22
        }
      ]
    },
    {
      "cell_type": "code",
      "metadata": {
        "id": "xyB4vgsrk29W"
      },
      "source": [
        "#Adam optimizer\n",
        "optimizer= Adam(model.parameters(), lr=0.07)\n",
        "\n",
        "#loss\n",
        "criterion = nn.BCEWithLogitsLoss()"
      ],
      "execution_count": null,
      "outputs": []
    },
    {
      "cell_type": "code",
      "metadata": {
        "id": "crimRAs4k-Pf"
      },
      "source": [
        "#training the model\n",
        "def train(epoch):\n",
        "    #set the model to train\n",
        "    model.train()\n",
        "    tr_loss=0    \n",
        "    \n",
        "    #clearing the Gradients \n",
        "    optimizer.zero_grad()\n",
        "    \n",
        "    #predict the output\n",
        "    y_pred, (state_h, state_c) = model(torch.from_numpy(train_inputs))\n",
        "    \n",
        "    #compute the loss\n",
        "    loss=criterion(y_pred,torch.from_numpy(train_targets))\n",
        "    losses.append(loss)\n",
        "    \n",
        "    #backpropagate\n",
        "    loss.backward()\n",
        "\n",
        "    #update the parameters\n",
        "    optimizer.step()\n",
        "    tr_loss = loss.item()\n",
        "\n",
        "    print(\"Epoch : \",epoch,\"loss : \",loss)"
      ],
      "execution_count": null,
      "outputs": []
    },
    {
      "cell_type": "code",
      "metadata": {
        "colab": {
          "base_uri": "https://localhost:8080/"
        },
        "id": "mYr9ObUQlB7W",
        "outputId": "2c31050d-31e9-45f8-feb4-b1a3664bf1f8"
      },
      "source": [
        "#number of epoch\n",
        "no_epoch=50\n",
        "losses=[]\n",
        "for epoch in range(1,no_epoch+1):\n",
        "    train(epoch)"
      ],
      "execution_count": null,
      "outputs": [
        {
          "output_type": "stream",
          "name": "stdout",
          "text": [
            "Epoch :  1 loss :  tensor(0.0873, grad_fn=<BinaryCrossEntropyWithLogitsBackward0>)\n",
            "Epoch :  2 loss :  tensor(0.0727, grad_fn=<BinaryCrossEntropyWithLogitsBackward0>)\n",
            "Epoch :  3 loss :  tensor(0.0602, grad_fn=<BinaryCrossEntropyWithLogitsBackward0>)\n",
            "Epoch :  4 loss :  tensor(0.0481, grad_fn=<BinaryCrossEntropyWithLogitsBackward0>)\n",
            "Epoch :  5 loss :  tensor(0.0401, grad_fn=<BinaryCrossEntropyWithLogitsBackward0>)\n",
            "Epoch :  6 loss :  tensor(0.0315, grad_fn=<BinaryCrossEntropyWithLogitsBackward0>)\n",
            "Epoch :  7 loss :  tensor(0.0252, grad_fn=<BinaryCrossEntropyWithLogitsBackward0>)\n",
            "Epoch :  8 loss :  tensor(0.0192, grad_fn=<BinaryCrossEntropyWithLogitsBackward0>)\n",
            "Epoch :  9 loss :  tensor(0.0151, grad_fn=<BinaryCrossEntropyWithLogitsBackward0>)\n",
            "Epoch :  10 loss :  tensor(0.0120, grad_fn=<BinaryCrossEntropyWithLogitsBackward0>)\n",
            "Epoch :  11 loss :  tensor(0.0098, grad_fn=<BinaryCrossEntropyWithLogitsBackward0>)\n",
            "Epoch :  12 loss :  tensor(0.0079, grad_fn=<BinaryCrossEntropyWithLogitsBackward0>)\n",
            "Epoch :  13 loss :  tensor(0.0063, grad_fn=<BinaryCrossEntropyWithLogitsBackward0>)\n",
            "Epoch :  14 loss :  tensor(0.0051, grad_fn=<BinaryCrossEntropyWithLogitsBackward0>)\n",
            "Epoch :  15 loss :  tensor(0.0042, grad_fn=<BinaryCrossEntropyWithLogitsBackward0>)\n",
            "Epoch :  16 loss :  tensor(0.0034, grad_fn=<BinaryCrossEntropyWithLogitsBackward0>)\n",
            "Epoch :  17 loss :  tensor(0.0028, grad_fn=<BinaryCrossEntropyWithLogitsBackward0>)\n",
            "Epoch :  18 loss :  tensor(0.0023, grad_fn=<BinaryCrossEntropyWithLogitsBackward0>)\n",
            "Epoch :  19 loss :  tensor(0.0020, grad_fn=<BinaryCrossEntropyWithLogitsBackward0>)\n",
            "Epoch :  20 loss :  tensor(0.0017, grad_fn=<BinaryCrossEntropyWithLogitsBackward0>)\n",
            "Epoch :  21 loss :  tensor(0.0014, grad_fn=<BinaryCrossEntropyWithLogitsBackward0>)\n",
            "Epoch :  22 loss :  tensor(0.0012, grad_fn=<BinaryCrossEntropyWithLogitsBackward0>)\n",
            "Epoch :  23 loss :  tensor(0.0011, grad_fn=<BinaryCrossEntropyWithLogitsBackward0>)\n",
            "Epoch :  24 loss :  tensor(0.0009, grad_fn=<BinaryCrossEntropyWithLogitsBackward0>)\n",
            "Epoch :  25 loss :  tensor(0.0008, grad_fn=<BinaryCrossEntropyWithLogitsBackward0>)\n",
            "Epoch :  26 loss :  tensor(0.0007, grad_fn=<BinaryCrossEntropyWithLogitsBackward0>)\n",
            "Epoch :  27 loss :  tensor(0.0007, grad_fn=<BinaryCrossEntropyWithLogitsBackward0>)\n",
            "Epoch :  28 loss :  tensor(0.0006, grad_fn=<BinaryCrossEntropyWithLogitsBackward0>)\n",
            "Epoch :  29 loss :  tensor(0.0005, grad_fn=<BinaryCrossEntropyWithLogitsBackward0>)\n",
            "Epoch :  30 loss :  tensor(0.0005, grad_fn=<BinaryCrossEntropyWithLogitsBackward0>)\n",
            "Epoch :  31 loss :  tensor(0.0005, grad_fn=<BinaryCrossEntropyWithLogitsBackward0>)\n",
            "Epoch :  32 loss :  tensor(0.0004, grad_fn=<BinaryCrossEntropyWithLogitsBackward0>)\n",
            "Epoch :  33 loss :  tensor(0.0004, grad_fn=<BinaryCrossEntropyWithLogitsBackward0>)\n",
            "Epoch :  34 loss :  tensor(0.0004, grad_fn=<BinaryCrossEntropyWithLogitsBackward0>)\n",
            "Epoch :  35 loss :  tensor(0.0003, grad_fn=<BinaryCrossEntropyWithLogitsBackward0>)\n",
            "Epoch :  36 loss :  tensor(0.0003, grad_fn=<BinaryCrossEntropyWithLogitsBackward0>)\n",
            "Epoch :  37 loss :  tensor(0.0003, grad_fn=<BinaryCrossEntropyWithLogitsBackward0>)\n",
            "Epoch :  38 loss :  tensor(0.0003, grad_fn=<BinaryCrossEntropyWithLogitsBackward0>)\n",
            "Epoch :  39 loss :  tensor(0.0003, grad_fn=<BinaryCrossEntropyWithLogitsBackward0>)\n",
            "Epoch :  40 loss :  tensor(0.0003, grad_fn=<BinaryCrossEntropyWithLogitsBackward0>)\n",
            "Epoch :  41 loss :  tensor(0.0002, grad_fn=<BinaryCrossEntropyWithLogitsBackward0>)\n",
            "Epoch :  42 loss :  tensor(0.0002, grad_fn=<BinaryCrossEntropyWithLogitsBackward0>)\n",
            "Epoch :  43 loss :  tensor(0.0002, grad_fn=<BinaryCrossEntropyWithLogitsBackward0>)\n",
            "Epoch :  44 loss :  tensor(0.0002, grad_fn=<BinaryCrossEntropyWithLogitsBackward0>)\n",
            "Epoch :  45 loss :  tensor(0.0002, grad_fn=<BinaryCrossEntropyWithLogitsBackward0>)\n",
            "Epoch :  46 loss :  tensor(0.0002, grad_fn=<BinaryCrossEntropyWithLogitsBackward0>)\n",
            "Epoch :  47 loss :  tensor(0.0002, grad_fn=<BinaryCrossEntropyWithLogitsBackward0>)\n",
            "Epoch :  48 loss :  tensor(0.0002, grad_fn=<BinaryCrossEntropyWithLogitsBackward0>)\n",
            "Epoch :  49 loss :  tensor(0.0002, grad_fn=<BinaryCrossEntropyWithLogitsBackward0>)\n",
            "Epoch :  50 loss :  tensor(0.0002, grad_fn=<BinaryCrossEntropyWithLogitsBackward0>)\n"
          ]
        }
      ]
    },
    {
      "cell_type": "code",
      "metadata": {
        "colab": {
          "base_uri": "https://localhost:8080/",
          "height": 265
        },
        "id": "e0o6nDRsmmF2",
        "outputId": "3ed691ed-0712-4f28-b9ba-dc6d12313e2c"
      },
      "source": [
        "#plotting the loss, loss is decreasing for each epoch\n",
        "import matplotlib.pyplot as plt\n",
        "plt.plot(losses, label='Training loss')\n",
        "plt.show()"
      ],
      "execution_count": null,
      "outputs": [
        {
          "output_type": "display_data",
          "data": {
            "image/png": "[encoded data removed]",
            "text/plain": [
              "<Figure size 432x288 with 1 Axes>"
            ]
          },
          "metadata": {
            "needs_background": "light"
          }
        }
      ]
    },
    {
      "cell_type": "code",
      "metadata": {
        "id": "ChO0ZPa2mpWm"
      },
      "source": [
        "def predict_next_word(text):\n",
        "    #set the model to evaluation\n",
        "    model.eval()\n",
        "\n",
        "    #preprocess\n",
        "    text = text.lower().strip()\n",
        "    \n",
        "    #converting the text to word tokens\n",
        "    input_tokens = word_tokenize(text)\n",
        "    \n",
        "    #converting the tokens to integer sequence\n",
        "    sequences = tokenizer.texts_to_sequences([input_tokens])\n",
        "    \n",
        "    #converting to array\n",
        "    sequences=np.asarray(sequences)\n",
        "    with torch.no_grad():\n",
        "        #converting to tensor\n",
        "        sequences=torch.from_numpy(sequences)\n",
        "        #predicting the output\n",
        "        predict,(hidden,cell)=model(sequences)\n",
        "    \n",
        "    #applying the softmax layer\n",
        "    softmax = torch.exp(predict)\n",
        "    prob = list(softmax.numpy())\n",
        "    \n",
        "    #index of the predict word\n",
        "    predictions = np.argmax(prob)\n",
        "\n",
        "    #converting the sequence back to word\n",
        "    next_word=tokenizer.sequences_to_texts([[predictions]])\n",
        "    return next_word"
      ],
      "execution_count": null,
      "outputs": []
    },
    {
      "cell_type": "code",
      "metadata": {
        "colab": {
          "base_uri": "https://localhost:8080/"
        },
        "id": "S966XHwKmuX1",
        "outputId": "38327bed-f9ea-41bf-a100-4c6b64e0a5a2"
      },
      "source": [
        "input_text=\"next word\"\n",
        "print(\"Possible next word will be:\")\n",
        "predict_next_word(input_text)"
      ],
      "execution_count": null,
      "outputs": [
        {
          "output_type": "stream",
          "name": "stdout",
          "text": [
            "Possible next word will be:\n"
          ]
        },
        {
          "output_type": "execute_result",
          "data": {
            "text/plain": [
              "['prediction']"
            ]
          },
          "metadata": {},
          "execution_count": 29
        }
      ]
    },
    {
      "cell_type": "code",
      "metadata": {
        "colab": {
          "base_uri": "https://localhost:8080/"
        },
        "id": "80be0u37m1u1",
        "outputId": "0dd5e01f-8b13-4314-f059-e08027a6a3dd"
      },
      "source": [
        "input_text=\"Language Modeling\"\n",
        "print(\"Possible next word will be:\")\n",
        "predict_next_word(input_text)"
      ],
      "execution_count": null,
      "outputs": [
        {
          "output_type": "stream",
          "name": "stdout",
          "text": [
            "Possible next word will be:\n"
          ]
        },
        {
          "output_type": "execute_result",
          "data": {
            "text/plain": [
              "['and']"
            ]
          },
          "metadata": {},
          "execution_count": 32
        }
      ]
    }
  ]
}